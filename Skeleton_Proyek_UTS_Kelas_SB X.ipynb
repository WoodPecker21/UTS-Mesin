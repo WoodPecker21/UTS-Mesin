{
  "cells": [
    {
      "attachments": {},
      "cell_type": "markdown",
      "id": "72a875f0",
      "metadata": {
        "id": "72a875f0"
      },
      "source": [
        "# Proyek UTS PMDPM Gasal 2023/2024\n",
        "\n",
        "<b>Harap jangan menghapus cell dan komentar yang diberikan!</b>\n",
        "\n",
        "- Setiap cell markdown dan code akan berisi instruksi pengerjaan Proyek UTS PMDPM Gasal 2023/2024\n",
        "\n",
        "- Dalam notebook ini Anda akan diminta untuk membuat sebuah proyek Pembelajaran Mesin menggunakan dataset yang sudah disediakan.\n",
        "- Proyek akan terdiri dari proses inisialisasi, data loading, data cleansing dan encoding, modelling, dan evaluasi model.\n",
        "\n",
        "- Pada bagian akhir silahkan berikan laporan singkat berupa jawaban pertanyaan dari proyek yang sudah dikerjakan."
      ]
    },
    {
      "attachments": {},
      "cell_type": "markdown",
      "id": "79d4888b",
      "metadata": {
        "id": "79d4888b"
      },
      "source": [
        "### Inisialisasi\n",
        "\n",
        "- Bagian berikut berisi import library yang dibutuhkan"
      ]
    },
    {
      "cell_type": "code",
      "execution_count": null,
      "id": "50264b34",
      "metadata": {},
      "outputs": [],
      "source": []
    },
    {
      "attachments": {},
      "cell_type": "markdown",
      "id": "fdd03879",
      "metadata": {
        "id": "fdd03879"
      },
      "source": [
        "### Data Loading\n",
        "\n",
        "- Bagian berikut berisi proses data loading (boleh dengan file upload atau dengan mount drive jika menggunakan Google Colab)"
      ]
    },
    {
      "cell_type": "code",
      "execution_count": null,
      "id": "1074df6e",
      "metadata": {
        "id": "1074df6e"
      },
      "outputs": [],
      "source": [
        "\n",
        "\n"
      ]
    },
    {
      "attachments": {},
      "cell_type": "markdown",
      "id": "3f7db2dd",
      "metadata": {
        "id": "3f7db2dd"
      },
      "source": [
        "### Data Cleansing & Encoding\n",
        "\n",
        "- Bagian berikut berisi proses pembersihan data.\n",
        "- Periksa apakah terdapat missing value dan data duplikat,\n",
        "- Ubah data kategorik string menjadi numerik.\n",
        "- Jika jumlah kelas pada data latih tidak seimbang, kalian dapat menggunakan metode oversampling.\n",
        "- Untuk **klasifikasi**, pastikan **Kategori menjadi target** dan **kolom Harga dihapus**."
      ]
    },
    {
      "attachments": {},
      "cell_type": "markdown",
      "id": "069d2943",
      "metadata": {},
      "source": [
        "### Train-test split\n",
        "\n",
        "- Untuk nilai parameter random_state, sesuaikan dengan dua digit terakhir nomor pegawai terbesar (red: dua digit terakhir NPM terbesar).\n",
        "- Silahkan memodifikasi persentase train-test split terbaik antara 80:20, 75:25, atau 70:30. "
      ]
    },
    {
      "cell_type": "code",
      "execution_count": null,
      "id": "ALwqKZhLNCDs",
      "metadata": {
        "id": "ALwqKZhLNCDs"
      },
      "outputs": [],
      "source": [
        "\n"
      ]
    },
    {
      "attachments": {},
      "cell_type": "markdown",
      "id": "754511e8",
      "metadata": {},
      "source": [
        "### Modelling\n",
        "\n",
        "#### Tugas Klasifikasi\n",
        "- Buatlah dua Pipeline untuk perbandingan model algoritme.\n",
        "- Tahap pemodelan dimulai dari data scaling, feature selection, hingga algoritme classifier.\n",
        "- Bandingkan dua metode penskalaan yaitu StandardScaler dan MinMaxScaler menggunakan parameter grid.\n",
        "- Kalian perlu bereksperimen dengan membandingkan dua dari empat metode feature selection (SelectKBest, SelectPercentile, SelectFromModel, dan RFE) dan jumlah feature yang dipilih menggunakan parameter grid.\n",
        "- Kalian wajib menyesuaikan parameter dari algoritme classifier yang kalian pilih agar model dapat bekerja dengan baik pada dataset.\n",
        "- Dua algoritme classifier yang dibandingkan bebas."
      ]
    },
    {
      "cell_type": "code",
      "execution_count": null,
      "id": "50c86125",
      "metadata": {
        "id": "50c86125"
      },
      "outputs": [],
      "source": []
    },
    {
      "attachments": {},
      "cell_type": "markdown",
      "id": "9ccd42b1",
      "metadata": {
        "id": "9ccd42b1"
      },
      "source": [
        "### Evaluasi Model\n",
        "\n",
        "- Evaluasi dilakukan dengan membuat masing-masing dua Grid Search Cross Validation dengan metode Stratified KFold Cross Validation.\n",
        "- **Untuk klasifikasi, tampilkan feature yang relevan dipilih oleh model, hasil pengukuran kinerja model klasifikasi dengan confusion matrix, serta metrik accuracy, precision, recall, dan F1-score. Untuk memudahkan pimpinan divisi membaca hasil, buatlah confusion matrix dalam bentuk representasi visual menggunakan fungsi ConfusionMatrixDisplay dari library scikit-learn.**"
      ]
    },
    {
      "cell_type": "code",
      "execution_count": null,
      "id": "25812a07",
      "metadata": {
        "id": "25812a07"
      },
      "outputs": [],
      "source": [
        "#lakukan proses evaluasi model algoritme pembelajaran mesin\n"
      ]
    },
    {
      "cell_type": "markdown",
      "id": "cb72c226",
      "metadata": {},
      "source": [
        "### Data Cleansing & Encoding Regresi\n",
        "\n",
        "- Load kembali dataset yang akan digunakan.\n",
        "- Ubah data kategorik string menjadi numerik.\n",
        "- Untuk **regresi**, pastikan **Harga menjadi target** dan **kolom Kategori dihapus**."
      ]
    },
    {
      "cell_type": "code",
      "execution_count": null,
      "id": "ecb14ada",
      "metadata": {},
      "outputs": [],
      "source": []
    },
    {
      "cell_type": "markdown",
      "id": "826da553",
      "metadata": {},
      "source": [
        "#### Tugas Regresi\n",
        "- Buatlah dua Pipeline untuk perbandingan model algoritme.\n",
        "- Bandingkan dua metode penskalaan yaitu StandardScaler dan MinMaxScaler menggunakan parameter grid.\n",
        "- Kalian juga perlu menyesuaikan parameter dari algoritme regressor yang kalian pilih agar model dapat bekerja dengan baik pada dataset.\n",
        "- Dua algoritme regressor yang dibandingkan bebas."
      ]
    },
    {
      "cell_type": "code",
      "execution_count": null,
      "id": "fb8f87f8",
      "metadata": {},
      "outputs": [],
      "source": []
    },
    {
      "cell_type": "markdown",
      "id": "9aa4b40c",
      "metadata": {},
      "source": [
        "### Evaluasi Model\n",
        "\n",
        "- Evaluasi dilakukan dengan membuat masing-masing dua Grid Search Cross Validation dengan metode Stratified KFold Cross Validation.\n",
        "- **Untuk regresi, tampilkan hasil pengukuran kinerja model regresi dengan Mean Absolute Error, Mean Squared Error, dan Root Mean Squared Error. Untuk memudahkan pimpinan divisi membaca hasil, buatlah tabel yang menampilkan perbandingan harga asli properti dan harga hasil prediksi dua model regresi beserta grafik visualnya.**"
      ]
    },
    {
      "attachments": {},
      "cell_type": "markdown",
      "id": "d6f85f13",
      "metadata": {
        "id": "d6f85f13"
      },
      "source": [
        "## Kesimpulan\n",
        "\n",
        "Silahkan jawab pertanyaan berikut pada cell markdown yang sudah disediakan:\n",
        "\n",
        "**Klasifikasi**\n",
        "\n",
        "1. Apa saja feature-feature yang relevan untuk membedakan antara rumah basic, middle, dan luxury?\n",
        "\n",
        "2. Model classifier apakah yang memiliki performa paling baik terhadap dataset? Apakah parameter setting yang paling optimal dari model tersebut?\n",
        "\n",
        "4. Dari hasil Confusion Matrix dan Classification Report, hal apa yang bisa kalian simpulkan dari performa model terbaik kalian?\n",
        "\n",
        "**Regresi**\n",
        "\n",
        "1. Model regressor apakah yang memiliki performa paling baik terhadap dataset? Apakah parameter setting yang paling optimal dari model tersebut?\n",
        "\n",
        "4. Dari hasil metrik evaluasi, hasil prediksi, dan grafik regresi, hal apa yang bisa kalian simpulkan dari performa model terbaik kalian?"
      ]
    },
    {
      "attachments": {},
      "cell_type": "markdown",
      "id": "a1c82c65",
      "metadata": {
        "id": "a1c82c65"
      },
      "source": [
        "*tulis jawaban kalian di cell ini*\n",
        "\n",
        "Kelompok: X\n",
        "Nama anggota 1 / NPM\n",
        "Nama anggota 2 / NPM\n",
        "Nama anggota 3 / NPM\n",
        "Nama anggota 4 / NPM\n",
        "\n",
        "Jawaban:\n",
        "\n",
        "**Klasifikasi**\n",
        "\n",
        "**Regresi**"
      ]
    }
  ],
  "metadata": {
    "colab": {
      "provenance": []
    },
    "kernelspec": {
      "display_name": "Python 3 (ipykernel)",
      "language": "python",
      "name": "python3"
    },
    "language_info": {
      "codemirror_mode": {
        "name": "ipython",
        "version": 3
      },
      "file_extension": ".py",
      "mimetype": "text/x-python",
      "name": "python",
      "nbconvert_exporter": "python",
      "pygments_lexer": "ipython3",
      "version": "3.9.12"
    }
  },
  "nbformat": 4,
  "nbformat_minor": 5
}
